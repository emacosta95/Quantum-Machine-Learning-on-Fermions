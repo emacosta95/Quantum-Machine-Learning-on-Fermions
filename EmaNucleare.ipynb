{
 "cells": [
  {
   "cell_type": "markdown",
   "id": "2e9aef23",
   "metadata": {},
   "source": [
    "# SBD on nuclear shell model"
   ]
  },
  {
   "cell_type": "code",
   "execution_count": 6,
   "id": "927e1dad",
   "metadata": {},
   "outputs": [],
   "source": [
    "from src.hamiltonian_utils import FermiHubbardHamiltonian\n",
    "from src.utils_quasiparticle_approximation import HardcoreBosonsBasis\n",
    "from src.nuclear_physics_utils import get_twobody_nuclearshell_model,SingleParticleState\n",
    "import numpy as np\n",
    "import torch\n",
    "from typing import Dict\n",
    "import scipy\n",
    "from src.qml_models import AdaptVQEFermiHubbard\n",
    "from src.qml_utils.train import Fit\n",
    "from src.qml_utils.utils import configuration\n",
    "from scipy.sparse.linalg import eigsh,expm_multiply\n",
    "from tqdm import trange\n",
    "import matplotlib.pyplot as plt\n",
    "from src.fermi_hubbard_library import FemionicBasis\n",
    "import numpy as np\n",
    "from typing import List, Dict\n",
    "from scipy.linalg import expm\n",
    "import scipy\n",
    "from scipy.sparse.linalg import expm_multiply\n",
    "from scipy.optimize import minimize\n",
    "from scipy.sparse import coo_matrix\n",
    "from scipy.sparse import lil_matrix\n",
    "from scipy.optimize import minimize\n",
    "from scipy import sparse\n",
    "from src.hartree_fock_library import HFEnergyFunctional,HFEnergyFunctionalNuclear\n",
    "import torch\n",
    "import torch.nn as nn\n",
    "import torch.optim as optim\n",
    "\n",
    "\n",
    "file_name='data/cki'\n",
    "\n",
    "SPS=SingleParticleState(file_name=file_name)"
   ]
  },
  {
   "cell_type": "code",
   "execution_count": 3,
   "id": "d3ae5bc1",
   "metadata": {},
   "outputs": [],
   "source": [
    "nparticles_a=4\n",
    "nparticles_b=2 # Berillium\n",
    "\n",
    "size_a=SPS.energies.shape[0]//2\n",
    "size_b=SPS.energies.shape[0]//2\n",
    "\n",
    "title=r'$^{10}$Be'"
   ]
  },
  {
   "cell_type": "markdown",
   "id": "483c0130",
   "metadata": {},
   "source": [
    "Exact solution:"
   ]
  },
  {
   "cell_type": "code",
   "execution_count": 4,
   "id": "a56fc46f",
   "metadata": {},
   "outputs": [
    {
     "name": "stdout",
     "output_type": "stream",
     "text": [
      "size= 12 6\n",
      "Computing the matrix, pls wait... (u_u) \n",
      "\n"
     ]
    },
    {
     "name": "stderr",
     "output_type": "stream",
     "text": [
      "  0%|          | 0/12 [00:00<?, ?it/s]"
     ]
    },
    {
     "name": "stderr",
     "output_type": "stream",
     "text": [
      "100%|██████████| 12/12 [00:01<00:00,  8.25it/s]\n",
      "1424it [00:03, 417.07it/s]\n"
     ]
    },
    {
     "name": "stdout",
     "output_type": "stream",
     "text": [
      "[-39.4534158]\n",
      "total_m= 5.605325231750058e-17\n",
      "dimension= 51\n"
     ]
    }
   ],
   "source": [
    "\n",
    "# Compute the J^2 value\n",
    "#J2Class=J2operator(size_a=size_a,size_b=size_b,nparticles_a=nparticles_a,nparticles_b=nparticles_b,single_particle_states=SPS.state_encoding,j_square_filename=file_name+'_j2',symmetries=[SPS.total_M_zero])\n",
    "\n",
    "#Quadrupole Operator\n",
    "\n",
    "\n",
    "# compute the NSM Hamiltonian\n",
    "NSMHamiltonian=FermiHubbardHamiltonian(size_a=size_a,size_b=size_b,nparticles_a=nparticles_a,nparticles_b=nparticles_b,symmetries=[SPS.total_M_zero])\n",
    "print('size=',size_a+size_b,size_b)\n",
    "NSMHamiltonian.get_external_potential(external_potential=SPS.energies[:size_a+size_b])\n",
    "if file_name=='data/cki':\n",
    "    twobody_matrix,energies=get_twobody_nuclearshell_model(file_name=file_name)\n",
    "\n",
    "    NSMHamiltonian.get_twobody_interaction(twobody_dict=twobody_matrix)\n",
    "else:\n",
    "    NSMHamiltonian.twobody_operator=scipy.sparse.load_npz(f'data/nuclear_twobody_matrix/usdb_{nparticles_a}_{nparticles_b}.npz')\n",
    "NSMHamiltonian.get_hamiltonian()\n",
    "\n",
    "####\n",
    "H = NSMHamiltonian.hamiltonian # hamiltonian as sparse matrix\n",
    "basis = NSMHamiltonian.basis # basis\n",
    "###\n",
    "\n",
    "egs,psi0=NSMHamiltonian.get_spectrum(n_states=1) # exact solution, later to confront\n",
    "psi0 = psi0.reshape(-1)\n",
    "\n",
    "print(egs)\n",
    "\n",
    "print('total_m=',SPS.compute_m_exp_value(psi=psi0,basis=NSMHamiltonian.basis))\n",
    "#print('j_value=',J2Class.j_value(psi0))\n",
    "print('dimension=',NSMHamiltonian.hamiltonian.shape[0])"
   ]
  },
  {
   "cell_type": "markdown",
   "id": "ee89c394",
   "metadata": {},
   "source": [
    "Hartree-Fock"
   ]
  },
  {
   "cell_type": "code",
   "execution_count": 7,
   "id": "ec74d9a4",
   "metadata": {},
   "outputs": [
    {
     "name": "stderr",
     "output_type": "stream",
     "text": [
      "/home/ecosta/miniconda3/envs/annealing-nsm-env/lib/python3.10/site-packages/torch/autograd/graph.py:829: UserWarning: CUDA initialization: The NVIDIA driver on your system is too old (found version 11060). Please update your GPU driver by downloading and installing a new version from the URL: http://www.nvidia.com/Download/index.aspx Alternatively, go to: https://pytorch.org to install a PyTorch version that has been compiled with your version of the CUDA driver. (Triggered internally at /pytorch/c10/cuda/CUDAFunctions.cpp:109.)\n",
      "  return Variable._execution_engine.run_backward(  # Calls into the C++ engine to run the backward pass\n"
     ]
    },
    {
     "name": "stdout",
     "output_type": "stream",
     "text": [
      "Step    0 | Energy = -22.818373\n",
      "Step   20 | Energy = -27.990202\n",
      "Step   40 | Energy = -30.991363\n",
      "Step   60 | Energy = -32.359893\n",
      "Step   80 | Energy = -32.643607\n",
      "Step  100 | Energy = -33.020408\n",
      "Step  120 | Energy = -33.496099\n",
      "Step  140 | Energy = -33.875295\n",
      "Step  160 | Energy = -34.071401\n",
      "Step  180 | Energy = -34.141339\n",
      "Step  200 | Energy = -34.159522\n",
      "Step  220 | Energy = -34.163054\n",
      "Step  240 | Energy = -34.163546\n",
      "Step  260 | Energy = -34.163589\n",
      "Step  280 | Energy = -34.163590\n",
      "Step  300 | Energy = -34.163590\n",
      "Step  320 | Energy = -34.163590\n",
      "Step  340 | Energy = -34.163590\n",
      "Step  360 | Energy = -34.163590\n",
      "Step  380 | Energy = -34.163590\n",
      "Step  400 | Energy = -34.163590\n",
      "Step  420 | Energy = -34.163590\n",
      "Step  440 | Energy = -34.163590\n",
      "Step  460 | Energy = -34.163590\n",
      "Step  480 | Energy = -34.163590\n",
      "Step  500 | Energy = -34.163590\n",
      "Step  520 | Energy = -34.163590\n",
      "Step  540 | Energy = -34.163590\n",
      "Step  560 | Energy = -34.163590\n",
      "Step  580 | Energy = -34.163590\n",
      "Step  599 | Energy = -34.163590\n"
     ]
    }
   ],
   "source": [
    "#model=HFEnergyFunctional(h_vec=torch.tensor(SPS.energies),V_dict=twobody_matrix,num_particles=nparticles_a+nparticles_b)\n",
    "model=HFEnergyFunctionalNuclear(h_vec=torch.tensor(SPS.energies,dtype=torch.double),V_dict=twobody_matrix,num_neutrons=nparticles_a,num_protons=nparticles_b,neutron_indices=0,proton_indices=size_a)\n",
    "\n",
    "optimizer = optim.Adam(model.parameters(), lr=0.01)\n",
    "\n",
    "num_steps = 600\n",
    "for step in range(num_steps):\n",
    "    optimizer.zero_grad()\n",
    "    energy = model()  # calls forward()\n",
    "    energy.backward()\n",
    "    optimizer.step()\n",
    "\n",
    "    if step % 20 == 0 or step == num_steps - 1:\n",
    "        print(f\"Step {step:4d} | Energy = {energy.item():.6f}\")"
   ]
  },
  {
   "cell_type": "code",
   "execution_count": 8,
   "id": "1f27ce08",
   "metadata": {},
   "outputs": [],
   "source": [
    "def slater_determinants_combined(C_n, C_p, fock_basis):\n",
    "    \"\"\"\n",
    "    C_n: [M_half, N_n]  -- neutron orbitals\n",
    "    C_p: [M_half, N_p]  -- proton orbitals\n",
    "    fock_basis: [F, M]  -- full occupation basis (neutrons + protons)\n",
    "\n",
    "    Returns:\n",
    "        psi: [F]  -- Slater determinant amplitudes\n",
    "    \"\"\"\n",
    "    F, M = fock_basis.shape\n",
    "    M_half = M // 2\n",
    "    N_n = C_n.shape[1]\n",
    "    N_p = C_p.shape[1]\n",
    "\n",
    "    psi = torch.zeros(F, dtype=C_n.dtype)\n",
    "\n",
    "    for i in range(F):\n",
    "        occ = fock_basis[i]  # [M]\n",
    "\n",
    "        occ_n = torch.nonzero(occ[:M_half]).squeeze()\n",
    "        occ_p = torch.nonzero(occ[M_half:]).squeeze()+M_half\n",
    "\n",
    "        Cn_sub = C_n[occ_n, :]  # shape [N_n, N_n]\n",
    "        Cp_sub = C_p[occ_p, :]  # shape [N_p, N_p]\n",
    "\n",
    "        if Cn_sub.shape[0] != N_n or Cp_sub.shape[0] != N_p:\n",
    "            # Skip invalid configurations (e.g., wrong number of particles)\n",
    "            continue\n",
    "\n",
    "        det_n = torch.det(Cn_sub)\n",
    "        det_p = torch.det(Cp_sub)\n",
    "        psi[i] = det_n * det_p\n",
    "\n",
    "\n",
    "    return psi  # [F]\n",
    "\n",
    "def slater_determinants_only_neutrons(C_n, fock_basis):\n",
    "    \"\"\"\n",
    "    C_n: [M_half, N_n]  -- neutron orbitals\n",
    "    C_p: [M_half, N_p]  -- proton orbitals\n",
    "    fock_basis: [F, M]  -- full occupation basis (neutrons + protons)\n",
    "\n",
    "    Returns:\n",
    "        psi: [F]  -- Slater determinant amplitudes\n",
    "    \"\"\"\n",
    "    F, M = fock_basis.shape\n",
    "    M_half = M // 2\n",
    "    N_n = C_n.shape[1]\n",
    "\n",
    "\n",
    "    psi = torch.zeros(F, dtype=C_n.dtype)\n",
    "\n",
    "    for i in range(F):\n",
    "        occ = fock_basis[i]  # [M]\n",
    "\n",
    "        occ_n = torch.nonzero(occ[:M_half]).squeeze()\n",
    "\n",
    "\n",
    "        Cn_sub = C_n[occ_n, :]  # shape [N_n, N_n]\n",
    "\n",
    "\n",
    "\n",
    "\n",
    "        det_n = torch.det(Cn_sub)\n",
    "\n",
    "        psi[i] = det_n \n",
    "\n",
    "    return psi  # [F]\n"
   ]
  },
  {
   "cell_type": "code",
   "execution_count": 9,
   "id": "5b4570f0",
   "metadata": {},
   "outputs": [],
   "source": [
    "\n",
    "#psi_hf=slater_determinants_only_neutrons(model.C_n, torch.tensor(NSMHamiltonian.basis))\n",
    "psi_hf=slater_determinants_combined(model.C_n, model.C_p, torch.tensor(NSMHamiltonian.basis))\n",
    "\n",
    "psi_hf=psi_hf.detach().numpy()\n",
    "\n",
    "psi_hf=psi_hf/np.linalg.norm(psi_hf)"
   ]
  },
  {
   "cell_type": "code",
   "execution_count": null,
   "id": "58ac9f88",
   "metadata": {},
   "outputs": [
    {
     "name": "stdout",
     "output_type": "stream",
     "text": [
      "-36.57502219874993\n",
      "fidelity= 0.485089147189017\n"
     ]
    }
   ],
   "source": [
    "\n",
    "\n",
    "print(psi_hf.conjugate() @ NSMHamiltonian.hamiltonian @ psi_hf)\n",
    "\n",
    "print('fidelity=',psi0[:].conjugate().dot(psi_hf)*np.conjugate(psi0[:].conjugate().dot(psi_hf)))"
   ]
  },
  {
   "cell_type": "markdown",
   "id": "73d9be1e",
   "metadata": {},
   "source": [
    "Voglio una classe Nuclear shell model sqd ansatz (trova un nome migliore hahah), i suoi parametri sono H e la base oppure numero particelle e per il resto fa automatico. Voglio i seguenti metodi:\n",
    "- Inizializzazione stato con lo stato della base con minore energia\n",
    "- Creazione operator pool\n",
    "- compute state con produttoria delle unitarie ottenute esponenziando la somma degli operatori nell'operator pool sommati con il loro complesso coniugato fatta con scipy exp multiply applicato a stato precedente (se prima iter a quello dell'inizializzazione)\n",
    "- fare SQD con quello stato e stimare energia con SQD\n",
    "\n",
    "In secondo momento sarà da aggiungere anche minimizzazione energia!!!\n"
   ]
  },
  {
   "cell_type": "code",
   "execution_count": null,
   "id": "96fc47bd",
   "metadata": {},
   "outputs": [],
   "source": [
    "import itertools\n",
    "from scipy.optimize import dual_annealing\n",
    "\n",
    "def genera_ij(N): # crea lista indici (0,1),(0,2),..,(0,N-1),(1,2),....,(N-2,N-1) con N input\n",
    "    return [(i, j) for i in range(N) for j in range(i + 1, N)]\n",
    "\n",
    "\n",
    "def genera_i1i2j1j2(N):\n",
    "    \"\"\"\n",
    "    Restituisce una lista di tuple (i1, i2, j1, j2) con valori unici tra 0 e N-1\n",
    "    ed evita ripetizioni causate da permutazioni interne.\n",
    "    \"\"\"\n",
    "    result = set()\n",
    "    indices = range(N)\n",
    "\n",
    "    for comb in itertools.combinations(indices, 4):  # scegli 4 indici distinti\n",
    "        for split in itertools.combinations(comb, 2):  # scegli 2 per il primo \"pair\"\n",
    "            # ottieni i1, i2 dal primo gruppo; j1, j2 dagli altri due\n",
    "            i1, i2 = sorted(split)\n",
    "            rest = [x for x in comb if x not in (i1, i2)]\n",
    "            j1, j2 = sorted(rest)\n",
    "\n",
    "            # crea una tupla canonica: (i1, i2, j1, j2)\n",
    "            tup = (i1, i2, j1, j2)\n",
    "            result.add(tup)\n",
    "\n",
    "    return sorted(result)\n",
    "\n",
    "\n",
    "class NSM_SQD_circuit_ansatz:\n",
    "\n",
    "    def __init__(self, file_name = 'data/cki', nparticles_a=4, nparticles_b=2,M=None, samples = 20, batches =100, train_steps = 10,num_parameters=30):\n",
    "        self.M = M\n",
    "        if self.M == 0:\n",
    "            # compute the NSM Hamiltonian and the basis\n",
    "            self.NSMHamiltonian=FermiHubbardHamiltonian(size_a=size_a,size_b=size_b,nparticles_a=nparticles_a,nparticles_b=nparticles_b,symmetries=[SPS.total_M_zero])\n",
    "            print('size=',size_a+size_b,size_b)\n",
    "            self.NSMHamiltonian.get_external_potential(external_potential=SPS.energies[:size_a+size_b])\n",
    "            if file_name=='data/cki':\n",
    "                twobody_matrix,energies=get_twobody_nuclearshell_model(file_name=file_name)\n",
    "                self.twobody_matrix=twobody_matrix\n",
    "                self.NSMHamiltonian.get_twobody_interaction(twobody_dict=twobody_matrix)\n",
    "            else:\n",
    "                self.NSMHamiltonian.twobody_operator=scipy.sparse.load_npz(f'data/nuclear_twobody_matrix/usdb_{nparticles_a}_{nparticles_b}.npz')\n",
    "            self.NSMHamiltonian.get_hamiltonian()\n",
    "\n",
    "        else:\n",
    "            # compute the NSM Hamiltonian and the basis\n",
    "            self.NSMHamiltonian=FermiHubbardHamiltonian(size_a=size_a,size_b=size_b,nparticles_a=nparticles_a,nparticles_b=nparticles_b,symmetries=[])\n",
    "            print('size=',size_a+size_b,size_b)\n",
    "            self.NSMHamiltonian.get_external_potential(external_potential=SPS.energies[:size_a+size_b])\n",
    "            if file_name=='data/cki':\n",
    "                twobody_matrix,energies=get_twobody_nuclearshell_model(file_name=file_name)\n",
    "                self.twobody_matrix=twobody_matrix\n",
    "                self.NSMHamiltonian.get_twobody_interaction(twobody_dict=twobody_matrix)\n",
    "            else:\n",
    "                self.NSMHamiltonian.twobody_operator=scipy.sparse.load_npz(f'data/nuclear_twobody_matrix/usdb_{nparticles_a}_{nparticles_b}.npz')\n",
    "            self.NSMHamiltonian.get_hamiltonian()\n",
    "\n",
    "        ####\n",
    "        self.H = NSMHamiltonian.hamiltonian # hamiltonian as sparse matrix\n",
    "        self.basis = NSMHamiltonian.basis # basis\n",
    "        ###\n",
    "\n",
    "        self.l = len(self.basis[0]) # lunghezza un elemento base\n",
    "        self.operator_pool = {} # op pool as dict where key is (i,j)\n",
    "        self.operator_pool_list = [] # op pool as list \n",
    "        self.psi = np.zeros(len(self.basis))\n",
    "        self.E = 0.\n",
    "\n",
    "        self.seed = 1024\n",
    "\n",
    "        self.samples = samples # number of samples for sqd energy estimation\n",
    "        self.batches = batches # different batches for sqd to make an average of the energy\n",
    "        self.train_steps = train_steps # steps in optimization\n",
    "        self.num_parameters = num_parameters # number of parameters in the ansatz\n",
    "\n",
    "    def initialize_state_v1(self): # ref state is the element of the basis with the minimum energy\n",
    "        self.psi = np.zeros(len(self.basis))  \n",
    "        diag = self.H.diagonal()\n",
    "        min_state_idx = diag.argmin()\n",
    "        self.psi[min_state_idx] = 1. \n",
    "        self.psi /= np.linalg.norm(self.psi)\n",
    "        self.E = diag.min()\n",
    "        return None\n",
    "\n",
    "    def initialize_state_v2(self,ns): # ref state is the element of the basis with the minimum energy\n",
    "        self.psi = np.zeros(len(self.basis)) \n",
    "        diag = self.H.diagonal()\n",
    "        min_indices = np.argsort(diag)[:ns]\n",
    "        self.psi[min_indices] = 1. / np.sqrt(ns)\n",
    "        self.psi /= np.linalg.norm(self.psi)\n",
    "        self.E = diag[min_indices].mean()\n",
    "        return None\n",
    "\n",
    "    def initialize_state_v3(self,psi_hf): # ref state is the element of the basis with the minimum energy\n",
    "        self.psi = psi_hf\n",
    "        self.E = self.psi.transpose().conj() @ self.H @ self.psi\n",
    "        return None\n",
    "\n",
    "\n",
    "\n",
    "\n",
    "    def miquel_constrainer(self,idxs:List[int]):\n",
    "        \n",
    "        if SPS.projection_conservation(idxs=idxs):\n",
    "            if HardcoreBosonsBasis(self.basis).charge_computation(initial_indices=idxs[:2],final_indices=idxs[2:]):\n",
    "                op=HardcoreBosonsBasis(self.basis).adag_adag_a_a_matrix(idxs[0],idxs[1],idxs[2],idxs[3])\n",
    "                diag_op = sparse.diags(op.diagonal())\n",
    "\n",
    "                non_diag_op =np.abs( op - diag_op)\n",
    "                if not(np.isclose(non_diag_op.sum(),0.)):\n",
    "                    condition=True\n",
    "                else:\n",
    "                    condition=False\n",
    "            \n",
    "            else:\n",
    "                condition=False\n",
    "        else:\n",
    "            condition=False\n",
    "                    \n",
    "        return condition\n",
    "\n",
    "\n",
    "    def miquel_constrainer_2(self,idxs:List[int]):\n",
    "        _,_,j0,_,_,tz0=SPS.state_encoding[idxs[0]]\n",
    "        _,_,j1,_,_,tz1=SPS.state_encoding[idxs[1]]\n",
    "        _,_,j2,_,_,tz2=SPS.state_encoding[idxs[2]]\n",
    "        _,_,j3,_,_,tz3=SPS.state_encoding[idxs[3]]\n",
    "        \n",
    "        j_tot_i = np.arange(start=int(np.abs(j0 - j1)), stop=int(j0 + j1) + 1)  # Include j0 + j1\n",
    "        j_tot_f = np.arange(start=int(np.abs(j2 - j3)), stop=int(j2 + j3) + 1)  # Include j2 + j3\n",
    "        #print(j_tot_i,j0,j1)\n",
    "        if tz0==tz1:\n",
    "            if j0==j1:\n",
    "                j_tot_i=[j for j in j_tot_i if j % 2==0 ]\n",
    "                #print('i=',j_tot_i,j0,j1)\n",
    "            if j2==j3:\n",
    "                j_tot_f=[j for j in j_tot_f if j % 2==0 ]\n",
    "                #print('f=',j_tot_f,j2,j3,'\\n')\n",
    "            if set(j_tot_i) & set(j_tot_f):\n",
    "                \n",
    "                \n",
    "                condition=True\n",
    "            else:\n",
    "                \n",
    "                condition=False\n",
    "\n",
    "        else:\n",
    "\n",
    "        \n",
    "            if set(j_tot_i) & set(j_tot_f):\n",
    "                condition=True\n",
    "            else:\n",
    "\n",
    "                condition=False\n",
    "\n",
    "\n",
    "                \n",
    "        return condition\n",
    "    \n",
    "    def miquel_constrainer_3(self,idxs:List[int]):\n",
    "        condition=False\n",
    "        p=np.random.uniform(0,1)\n",
    "        if SPS.projection_conservation(idxs=idxs):\n",
    "            if p<1:\n",
    "                condition=True\n",
    "                    \n",
    "        return condition\n",
    "\n",
    "\n",
    "    def create_operator_pool_twobody_symmetry(self): # nella pool two body op che rispettano i miquel constraints\n",
    "        self.operator_pool:Dict={}\n",
    "        self.operator_pool = self.NSMHamiltonian.set_operator_pool(operator_pool=self.operator_pool,conditions=[SPS.projection_conservation,self.miquel_constrainer_2,self.miquel_constrainer,self.miquel_constrainer_3],nbody='two')\n",
    "        vs, ops, keys = [], [], []\n",
    "        for key, op in self.operator_pool.items():\n",
    "            if key in self.twobody_matrix:\n",
    "                vs.append(self.twobody_matrix[key])\n",
    "                ops.append(op)\n",
    "                keys.append(key)\n",
    "\n",
    "        vs = np.abs(np.array(vs))\n",
    "        selection = np.argsort(vs)[-self.num_parameters:][::-1]\n",
    "        selected_vs = vs[selection]\n",
    "\n",
    "\n",
    "        new_operator_pool = {keys[idx]: ops[idx] for idx in selection}\n",
    "        self.operator_pool = new_operator_pool\n",
    "        self.operator_pool_list = list(self.operator_pool.values())\n",
    "        np.random.seed(self.seed) \n",
    "        self.weights = np.zeros(len(self.operator_pool))#np.random.uniform(-1.3, 1.3, size=len(self.operator_pool))\n",
    "        return None\n",
    "\n",
    "    def forward(self, weights): # compute psi\n",
    "        psi = self.psi.copy()\n",
    "        if self.weights is not(None):\n",
    "            \n",
    "            for i, w in enumerate(weights):\n",
    "                # print(np.conj(expm(self.weights[i] * op).T) @ expm(self.weights[i] * op))\n",
    "                psi = scipy.sparse.linalg.expm_multiply( (0. + 1j) * w * self.operator_pool_list[i],psi) \n",
    "                psi = psi / np.linalg.norm(psi)\n",
    "\n",
    "        return psi\n",
    "\n",
    "    def SQD(self, weights): #output è energia stimata con SQD (compute energy functional)\n",
    "        psi = self.forward(weights)\n",
    "        prob = (np.conjugate(psi) * psi).real # .real needed to change data type from complex to float\n",
    "        Ham = self.H.copy()\n",
    "        np.random.seed(self.seed) # seed con cui calcolo il vettore random i cui elementi sono i seed dei diversi batch\n",
    "        seeds = np.random.randint(1, 30002, size=self.batches)\n",
    "        e = np.zeros(self.batches)\n",
    "        self.psi_batches=np.zeros((self.batches,self.psi.shape[0]))\n",
    "        for k,s in enumerate(seeds):\n",
    "            np.random.seed(s)\n",
    "            #print('non zero prob=',np.nonzero(prob)[0].shape[0])\n",
    "\n",
    "            \n",
    "            if np.nonzero(prob)[0].shape[0]<self.samples:\n",
    "                selection = np.random.choice(len(self.basis), size=np.nonzero(prob)[0].shape[0], replace=False, p=prob)\n",
    "\n",
    "            else:\n",
    "                \n",
    "                selection = np.random.choice(len(self.basis), size=self.samples, replace=False, p=prob)\n",
    "\n",
    "            if len(selection)!=1:    \n",
    "                effective_hamiltonian=  Ham.tocsr()[selection,:][:,selection]\n",
    "\n",
    "                value,eighvec = eigsh(effective_hamiltonian, k=1, which=\"SA\", maxiter=int(1E6), ) # Diagonalization of reduced H\n",
    "                e[k]=value[0]\n",
    "                self.psi_batches[k,selection]=eighvec[:,0]\n",
    "            \n",
    "            else:\n",
    "                e[k]=Ham[selection[0],selection[0]]\n",
    "            \n",
    "        self.variance=np.std(e)\n",
    "        return np.average(e)\n",
    "    \n",
    "    def cobyla_callback(self, x):\n",
    "        # Callback function for COBYLA (optional, for printing intermediate results)\n",
    "        print(f\"Current COBYLA weights: {np.linalg.norm(x)}, SQD: {self.SQD(x)} Variance energy {self.variance}\")\n",
    "\n",
    "    def optimization(self):\n",
    "            initial_guess = self.weights if i == 0 else self.weights # Use current weights as initial guess\n",
    "            bounds = [(-2.0, 2.0)] * len(self.weights)\n",
    "            res = dual_annealing(\n",
    "                self.SQD,\n",
    "                bounds=bounds,\n",
    "                maxiter=100,      # ⬅️ limit outer loop iterations\n",
    "                maxfun=5000,     # ⬅️ cap total function evaluations\n",
    "                callback=self.annealing_callback,\n",
    "            )\n",
    "            self.weights = res.x\n",
    "            \n",
    "            \n",
    "        for i in range(self.train_steps):\n",
    "            # COBYLA optimization\n",
    "\n",
    "            res2 = minimize(self.SQD, x0=self.weights, method='COBYLA', options={'disp':True},callback=self.cobyla_callback)\n",
    "\n",
    "            self.weights = res2.x  # update weights\n",
    "            self.E = self.SQD(self.weights)\n",
    "            self.psi = self.forward(self.weights)\n",
    "\n",
    "            print(f'\\n--- Training Step {i+1} ---')\n",
    "            print('Optimization Success =', res2.success)\n",
    "            print('Energy (SQD) =', self.E)\n",
    "            print('Message =', res2.message)\n",
    "            print('Current weights =', self.weights)\n",
    "            print('Number of function evaluations =', res2.nfev)\n",
    "\n",
    "\n",
    "    def annealing_callback(self,x, f, context,*args):\n",
    "        print(f\"Step context: {context} | Energy: {f} \\n\")\n",
    "        self.weights=x.copy()\n",
    "        #print(f\"Weights: {x}\\n\")\n",
    "        "
   ]
  },
  {
   "cell_type": "code",
   "execution_count": 51,
   "id": "edef14f3",
   "metadata": {},
   "outputs": [
    {
     "name": "stdout",
     "output_type": "stream",
     "text": [
      "size= 12 6\n",
      "Computing the matrix, pls wait... (u_u) \n",
      "\n"
     ]
    },
    {
     "name": "stderr",
     "output_type": "stream",
     "text": [
      "100%|██████████| 12/12 [00:01<00:00,  8.51it/s]\n",
      "1424it [00:03, 427.66it/s]\n"
     ]
    }
   ],
   "source": [
    "m = NSM_SQD_circuit_ansatz(M=0,samples=30, train_steps=10,num_parameters=20,batches=100) # nb da samples = 48 da e esatta se si parte da prob esatta\n",
    "m.initialize_state_v3(psi_hf)\n",
    "\n",
    "m.create_operator_pool_twobody_symmetry()"
   ]
  },
  {
   "cell_type": "code",
   "execution_count": 52,
   "id": "30e8b2da",
   "metadata": {},
   "outputs": [
    {
     "name": "stdout",
     "output_type": "stream",
     "text": [
      "20\n",
      "[0. 0. 0. 0. 0. 0. 0. 0. 0. 0. 0. 0. 0. 0. 0. 0. 0. 0. 0. 0.]\n"
     ]
    }
   ],
   "source": [
    "print(len(m.operator_pool))\n",
    "print(m.weights)"
   ]
  },
  {
   "cell_type": "code",
   "execution_count": 53,
   "id": "e8e4cf94",
   "metadata": {},
   "outputs": [
    {
     "name": "stdout",
     "output_type": "stream",
     "text": [
      "[-0.61843343+0.j  0.21870923+0.j  0.0869069 +0.j  0.0869069 +0.j\n",
      " -0.15495085+0.j  0.01553308+0.j -0.01738517+0.j -0.05975021+0.j\n",
      "  0.03781027+0.j  0.02182977+0.j -0.1034904 +0.j  0.06548931+0.j\n",
      "  0.03781027+0.j  0.37456316+0.j -0.13246441+0.j -0.05263642+0.j\n",
      " -0.05263642+0.j  0.09384822+0.j -0.03419246+0.j  0.0382694 +0.j\n",
      "  0.37456316+0.j -0.13246441+0.j -0.05263642+0.j -0.05263642+0.j\n",
      "  0.09384822+0.j -0.1034904 +0.j  0.03781027+0.j  0.06548931+0.j\n",
      " -0.03009041+0.j  0.01904138+0.j  0.01099355+0.j  0.32757082+0.j\n",
      " -0.11584555+0.j -0.04603271+0.j -0.04603271+0.j  0.08207411+0.j\n",
      " -0.05975021+0.j  0.02182977+0.j  0.03781027+0.j  0.01553308+0.j\n",
      " -0.01738517+0.j -0.0357177 +0.j  0.01263158+0.j  0.00501932+0.j\n",
      "  0.00501932+0.j -0.00894921+0.j -0.03009041+0.j  0.01099355+0.j\n",
      "  0.01904138+0.j -0.03419246+0.j  0.0382694 +0.j]\n"
     ]
    },
    {
     "data": {
      "text/plain": [
       "np.float64(-36.57502219874993)"
      ]
     },
     "execution_count": 53,
     "metadata": {},
     "output_type": "execute_result"
    }
   ],
   "source": [
    "print(m.forward(m.weights))\n",
    "\n",
    "m.psi\n",
    "m.E"
   ]
  },
  {
   "cell_type": "code",
   "execution_count": 54,
   "id": "5c12557a",
   "metadata": {},
   "outputs": [
    {
     "data": {
      "text/plain": [
       "np.float64(-37.285632654167)"
      ]
     },
     "execution_count": 54,
     "metadata": {},
     "output_type": "execute_result"
    }
   ],
   "source": [
    "m.SQD(np.zeros(m.weights.shape))"
   ]
  },
  {
   "cell_type": "code",
   "execution_count": null,
   "id": "c93c4ad5",
   "metadata": {},
   "outputs": [],
   "source": [
    "m.optimization()"
   ]
  },
  {
   "cell_type": "code",
   "execution_count": 58,
   "id": "c1c2d734",
   "metadata": {},
   "outputs": [
    {
     "name": "stdout",
     "output_type": "stream",
     "text": [
      "[2.93982132e-02 1.53841300e-02 2.16543065e-04 3.96286856e-05\n",
      " 1.36327718e-01 4.34484769e-02 7.70139252e-02 2.05141204e-03\n",
      " 8.97625776e-12 2.35156700e-04 8.26152593e-11 2.04229621e-03\n",
      " 1.09288201e-11 2.88424103e-03 2.44946710e-03 5.58232370e-08\n",
      " 5.39585939e-03 5.28320746e-03 6.21353459e-03 3.78377602e-04\n",
      " 1.29337487e-02 6.91600526e-03 3.04325258e-03 2.60546955e-05\n",
      " 5.54306757e-02 9.65034035e-11 1.09288201e-11 1.39218979e-02\n",
      " 6.90147978e-03 1.54470941e-11 2.70591132e-07 7.39967127e-03\n",
      " 4.69894078e-03 1.74181203e-04 3.21533961e-03 1.23370874e-02\n",
      " 1.87621068e-06 1.06517447e-07 1.07059357e-11 2.33107796e-01\n",
      " 2.57846983e-01 9.33933759e-05 4.95061494e-03 2.01783871e-05\n",
      " 3.56521478e-07 1.49413711e-02 8.12475137e-05 1.71947188e-09\n",
      " 3.28862787e-12 2.17394708e-02 1.14557547e-02]\n",
      "[ 1.08629183e+00 -4.96801883e-01  1.99681433e+00  1.00979672e+00\n",
      "  9.74243253e-01  8.07449668e-01 -8.28284103e-02  9.09900271e-02\n",
      "  6.45410131e-02  4.17860840e-01  2.33652126e-01  3.39137992e-02\n",
      " -3.18607147e-02  9.52248105e-04  6.09699871e-01  2.39908599e-02\n",
      "  1.98014406e+00  9.95903267e-01  1.84643116e-01 -2.27033640e-01]\n"
     ]
    },
    {
     "data": {
      "image/png": "[encoded data removed]",
      "text/plain": [
       "<Figure size 640x480 with 1 Axes>"
      ]
     },
     "metadata": {},
     "output_type": "display_data"
    },
    {
     "data": {
      "image/png": "[encoded data removed]",
      "text/plain": [
       "<Figure size 640x480 with 1 Axes>"
      ]
     },
     "metadata": {},
     "output_type": "display_data"
    }
   ],
   "source": [
    "probb = (np.conjugate(m.forward(m.weights)) * m.forward(m.weights)).real\n",
    "\n",
    "print(probb)\n",
    "print(m.weights)\n",
    "plt.plot(m.forward(m.weights))\n",
    "plt.show()\n",
    "prob_samples=np.average((np.conjugate(m.psi_batches) * m.psi_batches),axis=0).real\n",
    "\n",
    "plt.plot(probb)\n",
    "plt.plot(prob_samples)\n",
    "\n",
    "plt.show()"
   ]
  },
  {
   "cell_type": "code",
   "execution_count": 64,
   "id": "fc17bef6",
   "metadata": {},
   "outputs": [
    {
     "name": "stdout",
     "output_type": "stream",
     "text": [
      "[ 1.08629183e+00 -4.96801883e-01  1.99681433e+00  1.00979672e+00\n",
      "  9.74243253e-01  8.07449668e-01 -8.28284103e-02  9.09900271e-02\n",
      "  6.45410131e-02  4.17860840e-01  2.33652126e-01  3.39137992e-02\n",
      " -3.18607147e-02  9.52248105e-04  6.09699871e-01  2.39908599e-02\n",
      "  1.98014406e+00  9.95903267e-01  1.84643116e-01 -2.27033640e-01]\n"
     ]
    },
    {
     "data": {
      "image/png": "[encoded data removed]",
      "text/plain": [
       "<Figure size 640x480 with 1 Axes>"
      ]
     },
     "metadata": {},
     "output_type": "display_data"
    }
   ],
   "source": [
    "plt.bar(np.arange(psi0.shape[0]),(np.conjugate(psi0) * psi0).real)\n",
    "\n",
    "#plt.bar(np.arange(m.psi.shape[0]),probb,alpha=0.5)\n",
    "\n",
    "plt.bar(np.arange(m.psi.shape[0]),prob_samples,alpha=0.5)\n",
    "\n",
    "print(m.weights)"
   ]
  },
  {
   "cell_type": "code",
   "execution_count": 77,
   "id": "8fdaf751",
   "metadata": {},
   "outputs": [
    {
     "name": "stdout",
     "output_type": "stream",
     "text": [
      "0.5010589847028523\n",
      "0.0\n",
      "0.0\n",
      "0.0\n",
      "0.0\n",
      "0.0\n",
      "0.0\n",
      "0.0\n",
      "0.0\n",
      "0.0\n",
      "0.0\n",
      "0.0\n",
      "0.0\n",
      "0.0\n",
      "0.0\n",
      "0.0\n",
      "0.0\n",
      "0.0\n",
      "0.0\n",
      "0.0\n",
      "0.0\n",
      "0.0\n",
      "0.0\n",
      "0.0\n",
      "0.0\n",
      "0.0\n",
      "0.0\n",
      "0.0\n",
      "0.0\n",
      "0.0\n",
      "0.0\n",
      "0.0\n",
      "0.0\n",
      "0.0\n",
      "0.0\n",
      "0.0\n",
      "0.0\n",
      "0.0\n",
      "0.0\n",
      "0.0\n",
      "0.0\n",
      "0.0\n",
      "0.0\n",
      "0.0\n",
      "0.0\n",
      "0.0\n",
      "0.0\n",
      "0.0\n",
      "0.0\n",
      "0.0\n",
      "0.0\n",
      "0.0\n",
      "0.0\n",
      "0.0\n",
      "0.0\n",
      "0.0\n",
      "0.0\n",
      "0.0\n",
      "0.0\n"
     ]
    }
   ],
   "source": [
    "fidelities=np.conjugate(np.einsum('ai,i->a',m.psi_batches,psi0))*np.einsum('ai,i->a',m.psi_batches,psi0)\n",
    "print(np.average(fidelities))\n",
    "\n",
    "for i in range(71,100):\n",
    "    print(m.psi_batches[i].dot(NSMHamiltonian.hamiltonian.dot(m.psi_batches[i])))\n",
    "    fidelities=np.conjugate(np.einsum('i,i->',m.psi_batches[i],psi0))*np.einsum('i,i->',m.psi_batches[i],psi0)\n",
    "    print(np.average(fidelities))\n"
   ]
  }
 ],
 "metadata": {
  "kernelspec": {
   "display_name": "annealing-nsm-env",
   "language": "python",
   "name": "python3"
  },
  "language_info": {
   "codemirror_mode": {
    "name": "ipython",
    "version": 3
   },
   "file_extension": ".py",
   "mimetype": "text/x-python",
   "name": "python",
   "nbconvert_exporter": "python",
   "pygments_lexer": "ipython3",
   "version": "3.10.18"
  }
 },
 "nbformat": 4,
 "nbformat_minor": 5
}

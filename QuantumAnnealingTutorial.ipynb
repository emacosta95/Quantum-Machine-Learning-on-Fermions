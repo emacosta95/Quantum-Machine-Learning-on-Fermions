{
 "cells": [
  {
   "cell_type": "markdown",
   "id": "469f3a64",
   "metadata": {},
   "source": [
    "## Quantum Adiabatic Time Evolution"
   ]
  },
  {
   "cell_type": "markdown",
   "id": "a0ac565c",
   "metadata": {},
   "source": [
    "Imports"
   ]
  },
  {
   "cell_type": "code",
   "execution_count": 2,
   "id": "31ead065",
   "metadata": {},
   "outputs": [],
   "source": [
    "from src.hamiltonian_utils import FermiHubbardHamiltonian # the many-body Hamiltonian class\n",
    "from src.nuclear_physics_utils import SingleParticleState,J2operator,get_twobody_nuclearshell_model # routines and class useful for the nuclear part\n",
    "import scipy # just scipy, easy, no?\n",
    "import numpy as np \n",
    "import matplotlib.pyplot as plt # to plot things\n",
    "from scipy.sparse.linalg import eigsh,expm_multiply"
   ]
  },
  {
   "cell_type": "markdown",
   "id": "2a37edf7",
   "metadata": {},
   "source": [
    "First of all we initialize the NSM Hamiltonian"
   ]
  },
  {
   "cell_type": "code",
   "execution_count": 3,
   "id": "d21fbf60",
   "metadata": {},
   "outputs": [
    {
     "name": "stdout",
     "output_type": "stream",
     "text": [
      "single particle energies= [1.63 1.63 1.63 1.63 2.27 2.27 1.63 1.63 1.63 1.63 2.27 2.27] \n",
      "\n",
      "mapping between nucleon modes a and the quantum numbers [(0, 1, 1.5, np.float64(-1.5), 0.5, 0.5), (0, 1, 1.5, np.float64(-0.5), 0.5, 0.5), (0, 1, 1.5, np.float64(0.5), 0.5, 0.5), (0, 1, 1.5, np.float64(1.5), 0.5, 0.5), (0, 1, 0.5, np.float64(-0.5), 0.5, 0.5), (0, 1, 0.5, np.float64(0.5), 0.5, 0.5), (0, 1, 1.5, np.float64(-1.5), 0.5, -0.5), (0, 1, 1.5, np.float64(-0.5), 0.5, -0.5), (0, 1, 1.5, np.float64(0.5), 0.5, -0.5), (0, 1, 1.5, np.float64(1.5), 0.5, -0.5), (0, 1, 0.5, np.float64(-0.5), 0.5, -0.5), (0, 1, 0.5, np.float64(0.5), 0.5, -0.5)]\n"
     ]
    }
   ],
   "source": [
    "file_name='data/cki'\n",
    "\n",
    "SPS=SingleParticleState(file_name=file_name)\n",
    "# single particle energies\n",
    "print('single particle energies=',SPS.energies,'\\n')\n",
    "print('mapping between nucleon modes a and the quantum numbers',SPS.state_encoding)\n",
    "\n",
    "nucleon_modes_per_isospin=SPS.energies.shape[0]//2 # we are counting per species. I know, we need a .num_modes attribute\n",
    "\n",
    "num_neutrons=2\n",
    "num_protons=2"
   ]
  },
  {
   "cell_type": "code",
   "execution_count": 19,
   "id": "20c51977",
   "metadata": {},
   "outputs": [
    {
     "name": "stdout",
     "output_type": "stream",
     "text": [
      "Computing the matrix, pls wait... (u_u) \n",
      "\n"
     ]
    },
    {
     "name": "stderr",
     "output_type": "stream",
     "text": [
      "  0%|          | 0/12 [00:00<?, ?it/s]"
     ]
    },
    {
     "name": "stderr",
     "output_type": "stream",
     "text": [
      "100%|██████████| 12/12 [00:02<00:00,  5.20it/s]\n",
      "1424it [00:01, 756.22it/s]\n"
     ]
    },
    {
     "name": "stdout",
     "output_type": "stream",
     "text": [
      "energy ground state=-30.295 Mev \n",
      "\n"
     ]
    }
   ],
   "source": [
    "NSMHamiltonian=FermiHubbardHamiltonian(size_a=nucleon_modes_per_isospin,size_b=nucleon_modes_per_isospin,nparticles_a=num_neutrons,nparticles_b=num_protons,symmetries=[SPS.total_M_zero]) # the symmetry that we need is the M=0 condition, if we do not add anything we get the full many-body basis\n",
    "NSMHamiltonian.get_external_potential(external_potential=SPS.energies)\n",
    "twobody_dict,_=get_twobody_nuclearshell_model(file_name=file_name)\n",
    "\n",
    "NSMHamiltonian.get_twobody_interaction(twobody_dict)\n",
    "NSMHamiltonian.get_hamiltonian()\n",
    "\n",
    "egs,psigs=NSMHamiltonian.get_spectrum(n_states=1) #we are only interested in the gs \n",
    "\n",
    "print(f'energy ground state={egs[0]:.5} Mev \\n')\n"
   ]
  },
  {
   "cell_type": "markdown",
   "id": "be06d46c",
   "metadata": {},
   "source": [
    "Then we define the driver Hamiltonian following the paper [CITE PAPER]"
   ]
  },
  {
   "cell_type": "markdown",
   "id": "a700f26f",
   "metadata": {},
   "source": [
    "First, we consider the initial state. In this case, the initial state corresponds with the minimum energy slater determinant"
   ]
  },
  {
   "cell_type": "code",
   "execution_count": 28,
   "id": "ccc00c28",
   "metadata": {},
   "outputs": [
    {
     "name": "stdout",
     "output_type": "stream",
     "text": [
      "[1 0 0 1 0 0 1 0 0 1 0 0]\n"
     ]
    }
   ],
   "source": [
    "# We select the product state of the basis that minimizes the Hamiltonian\n",
    "min = 10000\n",
    "min_b=0.\n",
    "for i, b in enumerate(NSMHamiltonian.basis):\n",
    "    psi = np.zeros(NSMHamiltonian.basis.shape[0]) # initialize the psi\n",
    "\n",
    "    psi[i] = 1.0\n",
    "    value = np.conj(psi) @ NSMHamiltonian.hamiltonian @ psi # compute <psi|H_T|psi> (we can also get H[i,i], same thing)\n",
    "    if value < min:\n",
    "        min = value # this is the minimum energy E_0\n",
    "        psi_base = psi\n",
    "        min_b=b\n",
    "        \n",
    "print(min_b)\n",
    "# this corresponds with the minimum slater determinant\n",
    "\n",
    "initial_psi=psi_base.copy() #we fix the initial psi"
   ]
  },
  {
   "cell_type": "markdown",
   "id": "f6c49a19",
   "metadata": {},
   "source": [
    "Then we build up the external potential"
   ]
  },
  {
   "cell_type": "code",
   "execution_count": 29,
   "id": "da5c74d0",
   "metadata": {},
   "outputs": [],
   "source": [
    "external_field=np.zeros(2*nucleon_modes_per_isospin)\n",
    "external_field=(min/(num_neutrons+num_protons))*min_b\n"
   ]
  },
  {
   "cell_type": "markdown",
   "id": "55d460c2",
   "metadata": {},
   "source": [
    "Then we initialize the Driver Hamiltonian"
   ]
  },
  {
   "cell_type": "code",
   "execution_count": 30,
   "id": "ba4a1c3d",
   "metadata": {},
   "outputs": [
    {
     "name": "stdout",
     "output_type": "stream",
     "text": [
      "  (np.int32(0), np.int32(0))\t-7.702854999999998\n",
      "  (np.int32(1), np.int32(1))\t-7.702854999999998\n",
      "  (np.int32(2), np.int32(2))\t-7.702854999999998\n",
      "  (np.int32(3), np.int32(3))\t-3.851427499999999\n",
      "  (np.int32(4), np.int32(4))\t-7.702854999999998\n",
      "  (np.int32(5), np.int32(5))\t-15.405709999999996\n",
      "  (np.int32(6), np.int32(6))\t-7.702854999999998\n",
      "  (np.int32(7), np.int32(7))\t-7.702854999999998\n",
      "  (np.int32(8), np.int32(8))\t-7.702854999999998\n",
      "  (np.int32(9), np.int32(9))\t-7.702854999999998\n",
      "  (np.int32(10), np.int32(10))\t-7.702854999999998\n",
      "  (np.int32(11), np.int32(11))\t-7.702854999999998\n",
      "  (np.int32(12), np.int32(12))\t-7.702854999999998\n",
      "  (np.int32(13), np.int32(13))\t-3.851427499999999\n",
      "  (np.int32(14), np.int32(14))\t-7.702854999999998\n",
      "  (np.int32(15), np.int32(15))\t-7.702854999999998\n",
      "  (np.int32(20), np.int32(20))\t-7.702854999999998\n",
      "  (np.int32(21), np.int32(21))\t-7.702854999999998\n",
      "  (np.int32(22), np.int32(22))\t-3.851427499999999\n",
      "  (np.int32(23), np.int32(23))\t-3.851427499999999\n",
      "  (np.int32(25), np.int32(25))\t-3.851427499999999\n",
      "  (np.int32(26), np.int32(26))\t-7.702854999999998\n",
      "  (np.int32(31), np.int32(31))\t-7.702854999999998\n",
      "  (np.int32(32), np.int32(32))\t-7.702854999999998\n",
      "  (np.int32(33), np.int32(33))\t-7.702854999999998\n",
      "  (np.int32(38), np.int32(38))\t-3.851427499999999\n",
      "  (np.int32(39), np.int32(39))\t-3.851427499999999\n",
      "  (np.int32(41), np.int32(41))\t-7.702854999999998\n",
      "  (np.int32(42), np.int32(42))\t-7.702854999999998\n",
      "  (np.int32(43), np.int32(43))\t-3.851427499999999\n",
      "  (np.int32(44), np.int32(44))\t-7.702854999999998\n",
      "  (np.int32(45), np.int32(45))\t-7.702854999999998\n",
      "  (np.int32(46), np.int32(46))\t-7.702854999999998\n"
     ]
    }
   ],
   "source": [
    "DriverHamiltonian=FermiHubbardHamiltonian(size_a=nucleon_modes_per_isospin,size_b=nucleon_modes_per_isospin,nparticles_a=num_neutrons,nparticles_b=num_protons,symmetries=[SPS.total_M_zero])\n",
    "\n",
    "DriverHamiltonian.get_external_potential(external_field)\n",
    "DriverHamiltonian.get_hamiltonian()\n",
    "\n",
    "print(DriverHamiltonian.hamiltonian)\n"
   ]
  },
  {
   "cell_type": "markdown",
   "id": "673ed064",
   "metadata": {},
   "source": [
    "Then we perform the Quantum Adiabatic Evolution"
   ]
  },
  {
   "cell_type": "code",
   "execution_count": 31,
   "id": "d4c72769",
   "metadata": {},
   "outputs": [
    {
     "name": "stdout",
     "output_type": "stream",
     "text": [
      "0.1\n",
      "[ 0.          0.1010101   0.2020202   0.3030303   0.4040404   0.50505051\n",
      "  0.60606061  0.70707071  0.80808081  0.90909091  1.01010101  1.11111111\n",
      "  1.21212121  1.31313131  1.41414141  1.51515152  1.61616162  1.71717172\n",
      "  1.81818182  1.91919192  2.02020202  2.12121212  2.22222222  2.32323232\n",
      "  2.42424242  2.52525253  2.62626263  2.72727273  2.82828283  2.92929293\n",
      "  3.03030303  3.13131313  3.23232323  3.33333333  3.43434343  3.53535354\n",
      "  3.63636364  3.73737374  3.83838384  3.93939394  4.04040404  4.14141414\n",
      "  4.24242424  4.34343434  4.44444444  4.54545455  4.64646465  4.74747475\n",
      "  4.84848485  4.94949495  5.05050505  5.15151515  5.25252525  5.35353535\n",
      "  5.45454545  5.55555556  5.65656566  5.75757576  5.85858586  5.95959596\n",
      "  6.06060606  6.16161616  6.26262626  6.36363636  6.46464646  6.56565657\n",
      "  6.66666667  6.76767677  6.86868687  6.96969697  7.07070707  7.17171717\n",
      "  7.27272727  7.37373737  7.47474747  7.57575758  7.67676768  7.77777778\n",
      "  7.87878788  7.97979798  8.08080808  8.18181818  8.28282828  8.38383838\n",
      "  8.48484848  8.58585859  8.68686869  8.78787879  8.88888889  8.98989899\n",
      "  9.09090909  9.19191919  9.29292929  9.39393939  9.49494949  9.5959596\n",
      "  9.6969697   9.7979798   9.8989899  10.        ]\n"
     ]
    }
   ],
   "source": [
    "tf=10\n",
    "time_steps=100\n",
    "dt=tf/time_steps\n",
    "print(dt)\n",
    "time=np.linspace(0,tf,time_steps)\n",
    "print(time)\n",
    "\n"
   ]
  },
  {
   "cell_type": "code",
   "execution_count": 32,
   "id": "2f5920e3",
   "metadata": {},
   "outputs": [
    {
     "name": "stderr",
     "output_type": "stream",
     "text": [
      "/opt/anaconda3/envs/dft_env/lib/python3.9/site-packages/matplotlib/cbook.py:1762: ComplexWarning: Casting complex values to real discards the imaginary part\n",
      "  return math.isfinite(val)\n",
      "/opt/anaconda3/envs/dft_env/lib/python3.9/site-packages/matplotlib/cbook.py:1398: ComplexWarning: Casting complex values to real discards the imaginary part\n",
      "  return np.asarray(x, float)\n"
     ]
    },
    {
     "data": {
      "image/png": "[encoded data removed]",
      "text/plain": [
       "<Figure size 432x288 with 1 Axes>"
      ]
     },
     "metadata": {
      "needs_background": "light"
     },
     "output_type": "display_data"
    },
    {
     "name": "stdout",
     "output_type": "stream",
     "text": [
      "energy via QAE -> (-30.291376100358292+1.7763568394002505e-15j)\n"
     ]
    }
   ],
   "source": [
    "psi=initial_psi.copy()\n",
    "energy=[]\n",
    "for i,t in enumerate(time):\n",
    "    hamiltonian_t=(1-t/tf)*DriverHamiltonian.hamiltonian+(t/tf)*NSMHamiltonian.hamiltonian\n",
    "    energy.append(psi.conjugate().dot(hamiltonian_t.dot(psi)))\n",
    "    \n",
    "    psi=expm_multiply(-1j*dt*hamiltonian_t,psi)\n",
    "    #psi=psi/np.linalg.norm(psi)\n",
    "    \n",
    "\n",
    "plt.plot(time,energy)\n",
    "plt.show()\n",
    "\n",
    "print('energy via QAE ->',energy[-1])    "
   ]
  },
  {
   "cell_type": "markdown",
   "id": "18257997",
   "metadata": {},
   "source": [
    "#### Analysis of the magnitude of the Nuclear interaction (Not important)"
   ]
  },
  {
   "cell_type": "code",
   "execution_count": 35,
   "id": "ae4de892",
   "metadata": {},
   "outputs": [
    {
     "data": {
      "image/png": "[encoded data removed]",
      "text/plain": [
       "<Figure size 432x288 with 1 Axes>"
      ]
     },
     "metadata": {
      "needs_background": "light"
     },
     "output_type": "display_data"
    }
   ],
   "source": [
    "plt.hist(twobody_dict.values(),bins=60)\n",
    "plt.show()\n",
    "\n",
    "distance_measure=[]\n",
    "\n",
    "for key in twobody_dict.keys():\n",
    "    \n",
    "    i,j,k,l=key\n",
    "    distance_measure.append((np.sqrt((i-j)**2+(i-k)**2+(i-l)**2)))\n"
   ]
  },
  {
   "cell_type": "code",
   "execution_count": 37,
   "id": "78a092e9",
   "metadata": {},
   "outputs": [
    {
     "data": {
      "image/png": "[encoded data removed]",
      "text/plain": [
       "<Figure size 432x288 with 1 Axes>"
      ]
     },
     "metadata": {
      "needs_background": "light"
     },
     "output_type": "display_data"
    }
   ],
   "source": [
    "plt.scatter(distance_measure,twobody_dict.values())\n",
    "plt.show()"
   ]
  },
  {
   "cell_type": "code",
   "execution_count": 41,
   "id": "f8200052",
   "metadata": {},
   "outputs": [
    {
     "name": "stdout",
     "output_type": "stream",
     "text": [
      "[144  24 176 144 328  48  64  64 120  64  32  40  64  16  16  48   8   8\n",
      "   8   8]\n"
     ]
    },
    {
     "data": {
      "image/png": "[encoded data removed]",
      "text/plain": [
       "<Figure size 576x432 with 1 Axes>"
      ]
     },
     "metadata": {
      "needs_background": "light"
     },
     "output_type": "display_data"
    }
   ],
   "source": [
    "# Compute histogram (don't plot yet)\n",
    "counts, bin_edges = np.histogram(np.abs(np.asarray(list(twobody_dict.values()))), bins=30,density=False)\n",
    "\n",
    "# Bin centers (x-axis)\n",
    "bin_centers = 0.5 * (bin_edges[1:] + bin_edges[:-1])\n",
    "\n",
    "# Filter out zero counts to avoid log(0)\n",
    "nonzero = counts > 0\n",
    "counts = counts[nonzero]\n",
    "\n",
    "print(counts)\n",
    "bin_centers = bin_centers[nonzero]\n",
    "bin_widths = np.diff(bin_edges)\n",
    "\n",
    "pdf = counts #/ (np.sum(counts))\n",
    "\n",
    "# Plot in log-log scale\n",
    "plt.figure(figsize=(8,6))\n",
    "plt.loglog(bin_centers, pdf, marker='o', linestyle='none')\n",
    "plt.xlabel(r'$p$', fontsize=20)\n",
    "plt.ylabel('Counts', fontsize=20)\n",
    "plt.tick_params(labelsize=15)\n",
    "plt.title(r\"Tail of Histogram (Log-Log) in the Interaction\", fontsize=18)\n",
    "plt.grid(True, which=\"both\", ls=\"--\")\n",
    "plt.tight_layout()\n",
    "plt.show()"
   ]
  }
 ],
 "metadata": {
  "kernelspec": {
   "display_name": "dft_env",
   "language": "python",
   "name": "python3"
  },
  "language_info": {
   "codemirror_mode": {
    "name": "ipython",
    "version": 3
   },
   "file_extension": ".py",
   "mimetype": "text/x-python",
   "name": "python",
   "nbconvert_exporter": "python",
   "pygments_lexer": "ipython3",
   "version": "3.9.7"
  }
 },
 "nbformat": 4,
 "nbformat_minor": 5
}

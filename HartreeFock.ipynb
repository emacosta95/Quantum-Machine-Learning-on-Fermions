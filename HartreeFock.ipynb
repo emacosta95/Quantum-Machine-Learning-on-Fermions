{
 "cells": [
  {
   "cell_type": "markdown",
   "id": "9fd9fd4d",
   "metadata": {},
   "source": [
    "#### Hartree-Fock in Pytorch"
   ]
  },
  {
   "cell_type": "code",
   "execution_count": 3,
   "id": "3cd5cb74",
   "metadata": {},
   "outputs": [],
   "source": [
    "from src.hamiltonian_utils import FermiHubbardHamiltonian\n",
    "from src.nuclear_physics_utils import get_twobody_nuclearshell_model,SingleParticleState\n",
    "import numpy as np\n",
    "\n",
    "from typing import Dict\n",
    "import scipy\n",
    "from src.qml_models import AdaptVQEFermiHubbard\n",
    "from src.qml_utils.train import Fit\n",
    "from src.qml_utils.utils import configuration\n",
    "from scipy.sparse.linalg import eigsh,expm_multiply\n",
    "from tqdm import trange\n",
    "import matplotlib.pyplot as plt\n",
    "from src.hartree_fock_library import HFEnergyFunctional\n",
    "from scipy.sparse import lil_matrix\n",
    "import torch\n",
    "import torch.nn as nn\n",
    "import torch.optim as optim\n",
    "\n",
    "file_name='data/usdb.nat'\n",
    "\n",
    "\n",
    "SPS=SingleParticleState(file_name=file_name)"
   ]
  },
  {
   "cell_type": "code",
   "execution_count": 2,
   "id": "98fc2b8e",
   "metadata": {},
   "outputs": [
    {
     "name": "stdout",
     "output_type": "stream",
     "text": [
      "Computing the matrix, pls wait... (u_u) \n",
      "\n"
     ]
    },
    {
     "name": "stderr",
     "output_type": "stream",
     "text": [
      "100%|██████████| 24/24 [00:55<00:00,  2.33s/it]\n"
     ]
    }
   ],
   "source": [
    "twobody_matrix,energies=get_twobody_nuclearshell_model(file_name=file_name)"
   ]
  },
  {
   "cell_type": "code",
   "execution_count": 4,
   "id": "d9095431",
   "metadata": {},
   "outputs": [],
   "source": [
    "nparticles_a=2\n",
    "nparticles_b=2\n",
    "\n",
    "size_a=SPS.energies.shape[0]//2\n",
    "size_b=SPS.energies.shape[0]//2\n",
    "\n",
    "title=r'$^{20}$Ne'"
   ]
  },
  {
   "cell_type": "code",
   "execution_count": 5,
   "id": "bd6a998f",
   "metadata": {},
   "outputs": [
    {
     "name": "stdout",
     "output_type": "stream",
     "text": [
      "size= 24 12\n",
      "[-41.39649007]\n",
      "total_m= [-3.45589442e-19]\n",
      "dimension= 640\n"
     ]
    }
   ],
   "source": [
    "\n",
    "# Compute the J^2 value\n",
    "#J2Class=J2operator(size_a=size_a,size_b=size_b,nparticles_a=nparticles_a,nparticles_b=nparticles_b,single_particle_states=SPS.state_encoding,j_square_filename=file_name+'_j2',symmetries=[SPS.total_M_zero])\n",
    "\n",
    "#Quadrupole Operator\n",
    "\n",
    "\n",
    "# compute the NSM Hamiltonian\n",
    "NSMHamiltonian=FermiHubbardHamiltonian(size_a=size_a,size_b=size_b,nparticles_a=nparticles_a,nparticles_b=nparticles_b,symmetries=[SPS.total_M_zero])\n",
    "print('size=',size_a+size_b,size_b)\n",
    "NSMHamiltonian.get_external_potential(external_potential=SPS.energies[:size_a+size_b])\n",
    "if file_name=='data/cki':\n",
    "    twobody_matrix,energies=get_twobody_nuclearshell_model(file_name=file_name)\n",
    "\n",
    "    NSMHamiltonian.get_twobody_interaction(twobody_dict=twobody_matrix)\n",
    "else:\n",
    "    NSMHamiltonian.twobody_operator=scipy.sparse.load_npz(f'data/nuclear_twobody_matrix/usdb_{nparticles_a}_{nparticles_b}.npz')\n",
    "NSMHamiltonian.get_hamiltonian()\n",
    "\n",
    "egs,psi0=NSMHamiltonian.get_spectrum(n_states=1)\n",
    "\n",
    "print(egs)\n",
    "\n",
    "print('total_m=',SPS.compute_m_exp_value(psi=psi0,basis=NSMHamiltonian.basis))\n",
    "#print('j_value=',J2Class.j_value(psi0))\n",
    "print('dimension=',NSMHamiltonian.hamiltonian.shape[0])"
   ]
  },
  {
   "cell_type": "markdown",
   "id": "ebb19a7a",
   "metadata": {},
   "source": [
    "Hartree-Fock method"
   ]
  },
  {
   "cell_type": "code",
   "execution_count": 6,
   "id": "db888c64",
   "metadata": {},
   "outputs": [],
   "source": [
    "model=HFEnergyFunctional(h_vec=torch.tensor(SPS.energies),V_dict=twobody_matrix,num_particles=nparticles_a+nparticles_b)\n",
    "\n"
   ]
  },
  {
   "cell_type": "code",
   "execution_count": 7,
   "id": "7a31e000",
   "metadata": {},
   "outputs": [
    {
     "name": "stdout",
     "output_type": "stream",
     "text": [
      "Step    0 | Energy = -12.858080\n",
      "Step   20 | Energy = -27.609497\n",
      "Step   40 | Energy = -30.568672\n",
      "Step   60 | Energy = -35.905540\n",
      "Step   80 | Energy = -37.139397\n",
      "Step  100 | Energy = -37.167561\n",
      "Step  120 | Energy = -37.183060\n",
      "Step  140 | Energy = -37.183556\n",
      "Step  160 | Energy = -37.183777\n",
      "Step  180 | Energy = -37.183781\n",
      "Step  199 | Energy = -37.183788\n"
     ]
    }
   ],
   "source": [
    "\n",
    "optimizer = optim.Adam(model.parameters(), lr=0.1)\n",
    "\n",
    "num_steps = 200\n",
    "for step in range(num_steps):\n",
    "    optimizer.zero_grad()\n",
    "    energy = model()  # calls forward()\n",
    "    energy.backward()\n",
    "    optimizer.step()\n",
    "\n",
    "    if step % 20 == 0 or step == num_steps - 1:\n",
    "        print(f\"Step {step:4d} | Energy = {energy.item():.6f}\")"
   ]
  },
  {
   "cell_type": "code",
   "execution_count": 8,
   "id": "5c02fff8",
   "metadata": {},
   "outputs": [],
   "source": [
    "def slater_determinants(C, fock_basis):\n",
    "    # C: [M, N]\n",
    "    # fock_basis: [F, M]\n",
    "    F = fock_basis.shape[0]\n",
    "    N = C.shape[1]\n",
    "    psi = torch.zeros(F, dtype=C.dtype)\n",
    "\n",
    "    for i in range(F):\n",
    "        occ = fock_basis[i]   # [M] boolean\n",
    "        occ_indices = torch.nonzero(occ).squeeze()              # [N, N] rows of occupied orbitals\n",
    "        C_sub = C[occ_indices, :]            # [N, N]\n",
    "        psi[i] = torch.det(C_sub)     # compute Slater determinant amplitude\n",
    "\n",
    "    return psi  # [F] amplitudes over Fock basis\n",
    "\n",
    "\n"
   ]
  },
  {
   "cell_type": "code",
   "execution_count": 9,
   "id": "db567170",
   "metadata": {},
   "outputs": [
    {
     "name": "stdout",
     "output_type": "stream",
     "text": [
      "(640,)\n"
     ]
    }
   ],
   "source": [
    "psi_hf=slater_determinants(model.C,torch.tensor(NSMHamiltonian.basis))\n",
    "psi_hf=psi_hf.detach().numpy()\n",
    "print(psi_hf.shape)\n",
    "psi_hf=psi_hf/np.linalg.norm(psi_hf)\n",
    "\n"
   ]
  },
  {
   "cell_type": "code",
   "execution_count": 10,
   "id": "a920535e",
   "metadata": {},
   "outputs": [
    {
     "data": {
      "image/png": "[encoded data removed]",
      "text/plain": [
       "<Figure size 432x288 with 1 Axes>"
      ]
     },
     "metadata": {
      "needs_background": "light"
     },
     "output_type": "display_data"
    },
    {
     "name": "stdout",
     "output_type": "stream",
     "text": [
      "-39.714357127950294\n",
      "fidelity= 0.6421327945070867\n"
     ]
    }
   ],
   "source": [
    "plt.bar(np.arange(psi_hf.shape[0]),psi_hf.conjugate()*psi_hf)\n",
    "plt.bar(np.arange(psi_hf.shape[0])+0.1,psi0[:,0].conjugate()*psi0[:,0],alpha=0.5)\n",
    "plt.show()\n",
    "\n",
    "print(psi_hf.conjugate() @ NSMHamiltonian.hamiltonian @ psi_hf)\n",
    "\n",
    "\n",
    "print('fidelity=',psi0[:,0].conjugate().dot(psi_hf)*np.conjugate(psi0[:,0].conjugate().dot(psi_hf)))"
   ]
  },
  {
   "cell_type": "code",
   "execution_count": 11,
   "id": "394b42e9",
   "metadata": {},
   "outputs": [
    {
     "name": "stdout",
     "output_type": "stream",
     "text": [
      "True\n"
     ]
    }
   ],
   "source": [
    "def check_orthonormal(C, tol=1e-6):\n",
    "    I = torch.eye(C.shape[1], dtype=C.dtype, device=C.device)\n",
    "    test = C.T @ C\n",
    "    return torch.allclose(test, I, atol=tol)\n",
    "\n",
    "print(check_orthonormal(model.C))"
   ]
  },
  {
   "cell_type": "markdown",
   "id": "d13d1e7a",
   "metadata": {},
   "source": [
    "#### Sample Based Diagonalization HF and exact Gs"
   ]
  },
  {
   "cell_type": "code",
   "execution_count": 21,
   "id": "e3266cfb",
   "metadata": {},
   "outputs": [],
   "source": [
    "n_instances=9000"
   ]
  },
  {
   "cell_type": "code",
   "execution_count": 15,
   "id": "2e7c55ad",
   "metadata": {},
   "outputs": [
    {
     "name": "stdout",
     "output_type": "stream",
     "text": [
      "[-29.0334]\n",
      "[-30.83858684]\n",
      "[-30.8653733]\n",
      "[-30.78749345]\n",
      "[-31.51270011]\n",
      "[-32.96759606]\n",
      "[-32.77357376]\n",
      "[-32.61199166]\n",
      "[-34.21738125]\n",
      "[-34.80127951]\n",
      "[-34.71754033]\n",
      "[-35.21611687]\n",
      "[-35.76546226]\n",
      "[-35.94588133]\n",
      "[-36.34742282]\n",
      "[-36.65488971]\n",
      "[-37.45065942]\n",
      "[-37.34449913]\n",
      "[-37.6437502]\n",
      "[-37.8672981]\n",
      "[-38.40746667]\n",
      "[-38.31737289]\n",
      "[-38.63500358]\n",
      "[-38.93912537]\n",
      "[-38.90501317]\n",
      "[-39.256127]\n",
      "[-39.35629424]\n",
      "[-39.58812824]\n",
      "[-39.55351624]\n",
      "[-39.88630289]\n",
      "[-39.88356144]\n",
      "[-40.20454903]\n",
      "[-40.30576413]\n",
      "[-40.33479969]\n",
      "[-40.49029516]\n",
      "[-40.35838666]\n",
      "[-40.50913914]\n",
      "[-40.74835284]\n",
      "[-40.73596856]\n",
      "[-40.88414072]\n",
      "[-40.92644485]\n",
      "[-40.93513752]\n",
      "[-40.99006557]\n",
      "[-41.043993]\n",
      "[-41.08827156]\n",
      "[-41.13333184]\n",
      "[-41.15922938]\n",
      "[-41.20077239]\n",
      "[-41.24381709]\n",
      "[-41.28623093]\n",
      "[-41.2904689]\n",
      "[-41.32301225]\n",
      "[-41.33034813]\n",
      "[-41.34638085]\n",
      "[-41.36371416]\n",
      "[-41.3717642]\n",
      "[-41.37854127]\n",
      "[-41.38840235]\n",
      "[-41.3934777]\n",
      "[-41.39566772]\n",
      "[-41.39628935]\n",
      "[-41.39649007]\n",
      "[-41.39649007]\n",
      "[-41.39649007]\n"
     ]
    }
   ],
   "source": [
    "prob_exact=np.conjugate(psi0[:,0])*psi0[:,0]\n",
    "\n",
    "ns_instances=np.arange(2,NSMHamiltonian.hamiltonian.shape[0],10)\n",
    "errors_sdg_gs=[]\n",
    "energies_sdg_gs=[]\n",
    "for n_instances in ns_instances: \n",
    "        selection=np.random.choice(np.arange(prob_exact.shape[0]),size=n_instances,replace=False,p=prob_exact)\n",
    "                # effective_hamiltonian=lil_matrix((n_instances[i],n_instances[i]))\n",
    "\n",
    "                # for a,idx_a in enumerate(selection):\n",
    "                #     for b,idx_b in enumerate(selection):\n",
    "                #         effective_hamiltonian[a,b]=NSMHamiltonian.hamiltonian[idx_a,idx_b]\n",
    "                \n",
    "        effective_hamiltonian=  NSMHamiltonian.hamiltonian.tocsr()[selection,:][:,selection]\n",
    "\n",
    "\n",
    "        effective_egs,effective_psi0=eigsh(effective_hamiltonian,k=1,which='SA')\n",
    "        errors_sdg_gs.append(np.abs((effective_egs[0]-egs[0])/egs[0]))\n",
    "        energies_sdg_gs.append(effective_egs[0])\n",
    "        print(effective_egs)\n"
   ]
  },
  {
   "cell_type": "code",
   "execution_count": 16,
   "id": "d8e0c409",
   "metadata": {},
   "outputs": [
    {
     "name": "stdout",
     "output_type": "stream",
     "text": [
      "[-24.6051]\n",
      "[-30.39376828]\n",
      "[-30.68689705]\n",
      "[-31.80214231]\n",
      "[-32.48037624]\n",
      "[-32.51705499]\n",
      "[-33.17787499]\n",
      "[-33.90571723]\n",
      "[-34.1372676]\n",
      "[-34.52768201]\n",
      "[-34.44147096]\n",
      "[-35.49843078]\n",
      "[-35.8938222]\n",
      "[-36.10387822]\n",
      "[-36.03966353]\n",
      "[-36.24150822]\n",
      "[-36.55782175]\n",
      "[-37.01288179]\n",
      "[-37.07344107]\n",
      "[-37.73719903]\n",
      "[-37.52757373]\n",
      "[-37.53548881]\n",
      "[-37.88337993]\n",
      "[-37.87080334]\n",
      "[-38.07009975]\n",
      "[-38.53787913]\n",
      "[-38.48149055]\n",
      "[-38.96237879]\n",
      "[-38.8379783]\n",
      "[-39.04123839]\n",
      "[-39.204175]\n",
      "[-39.32683702]\n",
      "[-39.29647953]\n",
      "[-39.38979167]\n",
      "[-39.67908788]\n",
      "[-39.5638127]\n",
      "[-39.64676459]\n",
      "[-39.73433558]\n",
      "[-39.88278738]\n",
      "[-40.11692661]\n",
      "[-40.12806667]\n",
      "[-40.22107287]\n",
      "[-40.21309725]\n",
      "[-40.28187459]\n",
      "[-40.33861428]\n",
      "[-40.45780857]\n",
      "[-40.47895168]\n",
      "[-40.52307701]\n",
      "[-40.46021209]\n",
      "[-40.62436723]\n",
      "[-40.6446645]\n",
      "[-40.6946748]\n",
      "[-40.8215735]\n",
      "[-40.84134828]\n",
      "[-40.83296174]\n",
      "[-40.89997139]\n",
      "[-40.95959851]\n",
      "[-40.90471493]\n",
      "[-40.99450902]\n",
      "[-41.08346661]\n",
      "[-41.23865012]\n",
      "[-41.22948483]\n",
      "[-41.30841714]\n",
      "[-41.39236976]\n"
     ]
    }
   ],
   "source": [
    "prob_hf=np.conjugate(psi_hf[:])*psi_hf[:]\n",
    "\n",
    "#ns_instances=np.arange(2,NSMHamiltonian.hamiltonian.shape[0],20)\n",
    "errors_sdg_hf=[]\n",
    "energies_sdg_hf=[]\n",
    "for n_instances in ns_instances: \n",
    "        selection=np.random.choice(np.arange(prob_hf.shape[0]),size=n_instances,replace=False,p=prob_hf)\n",
    "                # effective_hamiltonian=lil_matrix((n_instances[i],n_instances[i]))\n",
    "\n",
    "                # for a,idx_a in enumerate(selection):\n",
    "                #     for b,idx_b in enumerate(selection):\n",
    "                #         effective_hamiltonian[a,b]=NSMHamiltonian.hamiltonian[idx_a,idx_b]\n",
    "                \n",
    "        effective_hamiltonian=  NSMHamiltonian.hamiltonian.tocsr()[selection,:][:,selection]\n",
    "\n",
    "\n",
    "        effective_egs,effective_psi0=eigsh(effective_hamiltonian,k=1,which='SA')\n",
    "        errors_sdg_hf.append(np.abs((effective_egs[0]-egs[0])/egs[0]))\n",
    "        energies_sdg_hf.append(effective_egs[0])\n",
    "        print(effective_egs)\n"
   ]
  },
  {
   "cell_type": "code",
   "execution_count": null,
   "id": "5ba5800d",
   "metadata": {},
   "outputs": [
    {
     "data": {
      "image/png": "[encoded data removed]",
      "text/plain": [
       "<Figure size 720x720 with 1 Axes>"
      ]
     },
     "metadata": {
      "needs_background": "light"
     },
     "output_type": "display_data"
    },
    {
     "data": {
      "image/png": "[encoded data removed]",
      "text/plain": [
       "<Figure size 720x720 with 1 Axes>"
      ]
     },
     "metadata": {
      "needs_background": "light"
     },
     "output_type": "display_data"
    }
   ],
   "source": [
    "plt.figure(figsize=(10,10))\n",
    "plt.plot(energies_sdg_gs,label='SDG exact')\n",
    "plt.plot(energies_sdg_hf,label='SDG HF')\n",
    "plt.axhline(y=model().detach().numpy(),color='red',linestyle='--',label='HF')\n",
    "plt.axhline(y=egs[0],color='green',linestyle='--',label='exact gs')\n",
    "plt.axhline(y=egs[0](0.99),color='green',linestyle='--',label='exact gs')\n",
    "\n",
    "plt.legend(fontsize=15)\n",
    "plt.tick_params(labelsize=30)\n",
    "plt.show()\n",
    "\n",
    "energies_sdg_hf=np.asarray(energies_sdg_hf)\n",
    "energies_sdg_gs=np.asarray(energies_sdg_gs)\n",
    "\n",
    "\n",
    "plt.figure(figsize=(10,10))\n",
    "plt.plot(np.abs((energies_sdg_gs-egs[0])/egs[0]),label='SDG exact')\n",
    "plt.plot(np.abs((energies_sdg_hf-egs[0])/egs[0]),label='SDG HF')\n",
    "plt.ylim([10**-6,0.3])\n",
    "plt.semilogx()\n",
    "plt.legend()\n",
    "plt.show()"
   ]
  }
 ],
 "metadata": {
  "kernelspec": {
   "display_name": "dft_env",
   "language": "python",
   "name": "python3"
  },
  "language_info": {
   "codemirror_mode": {
    "name": "ipython",
    "version": 3
   },
   "file_extension": ".py",
   "mimetype": "text/x-python",
   "name": "python",
   "nbconvert_exporter": "python",
   "pygments_lexer": "ipython3",
   "version": "3.9.7"
  }
 },
 "nbformat": 4,
 "nbformat_minor": 5
}

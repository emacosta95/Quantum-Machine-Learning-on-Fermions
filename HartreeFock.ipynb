{
 "cells": [
  {
   "cell_type": "markdown",
   "id": "9fd9fd4d",
   "metadata": {},
   "source": [
    "#### Hartree-Fock in Pytorch"
   ]
  },
  {
   "cell_type": "code",
   "execution_count": 22,
   "id": "3cd5cb74",
   "metadata": {},
   "outputs": [],
   "source": [
    "from src.hamiltonian_utils import FermiHubbardHamiltonian\n",
    "from src.nuclear_physics_utils import get_twobody_nuclearshell_model,SingleParticleState\n",
    "import numpy as np\n",
    "\n",
    "from typing import Dict\n",
    "import scipy\n",
    "from src.qml_models import AdaptVQEFermiHubbard\n",
    "from src.qml_utils.train import Fit\n",
    "from src.qml_utils.utils import configuration\n",
    "from scipy.sparse.linalg import eigsh,expm_multiply\n",
    "from tqdm import trange\n",
    "import matplotlib.pyplot as plt\n",
    "from src.hartree_fock_library import HFEnergyFunctional\n",
    "from scipy.sparse import lil_matrix\n",
    "import torch\n",
    "import torch.nn as nn\n",
    "import torch.optim as optim\n",
    "\n",
    "file_name='data/cki'\n",
    "\n",
    "\n",
    "SPS=SingleParticleState(file_name=file_name)"
   ]
  },
  {
   "cell_type": "code",
   "execution_count": 23,
   "id": "d9095431",
   "metadata": {},
   "outputs": [],
   "source": [
    "nparticles_a=4\n",
    "nparticles_b=4\n",
    "\n",
    "size_a=SPS.energies.shape[0]//2\n",
    "size_b=SPS.energies.shape[0]//2\n",
    "\n",
    "title=r'$^{8}$Be'"
   ]
  },
  {
   "cell_type": "code",
   "execution_count": 24,
   "id": "bd6a998f",
   "metadata": {},
   "outputs": [
    {
     "name": "stdout",
     "output_type": "stream",
     "text": [
      "size= 12 6\n",
      "Computing the matrix, pls wait... (u_u) \n",
      "\n"
     ]
    },
    {
     "name": "stderr",
     "output_type": "stream",
     "text": [
      "100%|██████████| 12/12 [00:01<00:00,  7.71it/s]\n",
      "1424it [00:02, 669.56it/s]"
     ]
    },
    {
     "name": "stdout",
     "output_type": "stream",
     "text": [
      "[-71.09941964]\n",
      "total_m= [1.51788304e-18]\n",
      "dimension= 51\n"
     ]
    },
    {
     "name": "stderr",
     "output_type": "stream",
     "text": [
      "\n"
     ]
    }
   ],
   "source": [
    "\n",
    "# Compute the J^2 value\n",
    "#J2Class=J2operator(size_a=size_a,size_b=size_b,nparticles_a=nparticles_a,nparticles_b=nparticles_b,single_particle_states=SPS.state_encoding,j_square_filename=file_name+'_j2',symmetries=[SPS.total_M_zero])\n",
    "\n",
    "#Quadrupole Operator\n",
    "\n",
    "\n",
    "# compute the NSM Hamiltonian\n",
    "NSMHamiltonian=FermiHubbardHamiltonian(size_a=size_a,size_b=size_b,nparticles_a=nparticles_a,nparticles_b=nparticles_b,symmetries=[SPS.total_M_zero])\n",
    "print('size=',size_a+size_b,size_b)\n",
    "NSMHamiltonian.get_external_potential(external_potential=SPS.energies[:size_a+size_b])\n",
    "if file_name=='data/cki':\n",
    "    twobody_matrix,energies=get_twobody_nuclearshell_model(file_name=file_name)\n",
    "\n",
    "    NSMHamiltonian.get_twobody_interaction(twobody_dict=twobody_matrix)\n",
    "else:\n",
    "    NSMHamiltonian.twobody_operator=scipy.sparse.load_npz(f'data/nuclear_twobody_matrix/usdb_{nparticles_a}_{nparticles_b}.npz')\n",
    "NSMHamiltonian.get_hamiltonian()\n",
    "\n",
    "egs,psi0=NSMHamiltonian.get_spectrum(n_states=1)\n",
    "\n",
    "print(egs)\n",
    "\n",
    "print('total_m=',SPS.compute_m_exp_value(psi=psi0,basis=NSMHamiltonian.basis))\n",
    "#print('j_value=',J2Class.j_value(psi0))\n",
    "print('dimension=',NSMHamiltonian.hamiltonian.shape[0])"
   ]
  },
  {
   "cell_type": "markdown",
   "id": "ebb19a7a",
   "metadata": {},
   "source": [
    "Hartree-Fock method"
   ]
  },
  {
   "cell_type": "code",
   "execution_count": null,
   "id": "db888c64",
   "metadata": {},
   "outputs": [],
   "source": [
    "model=HFEnergyFunctional(h_vec=torch.tensor(SPS.energies),V_dict=twobody_matrix,num_particles=8)\n",
    "\n"
   ]
  },
  {
   "cell_type": "code",
   "execution_count": 26,
   "id": "7a31e000",
   "metadata": {},
   "outputs": [
    {
     "name": "stdout",
     "output_type": "stream",
     "text": [
      "Step    0 | Energy = -5.920523\n",
      "Step   50 | Energy = -25.649273\n"
     ]
    },
    {
     "ename": "KeyboardInterrupt",
     "evalue": "",
     "output_type": "error",
     "traceback": [
      "\u001b[0;31m---------------------------------------------------------------------------\u001b[0m",
      "\u001b[0;31mKeyboardInterrupt\u001b[0m                         Traceback (most recent call last)",
      "\u001b[0;32m/tmp/ipykernel_3139063/3062109681.py\u001b[0m in \u001b[0;36m<module>\u001b[0;34m\u001b[0m\n\u001b[1;32m      5\u001b[0m     \u001b[0moptimizer\u001b[0m\u001b[0;34m.\u001b[0m\u001b[0mzero_grad\u001b[0m\u001b[0;34m(\u001b[0m\u001b[0;34m)\u001b[0m\u001b[0;34m\u001b[0m\u001b[0;34m\u001b[0m\u001b[0m\n\u001b[1;32m      6\u001b[0m     \u001b[0menergy\u001b[0m \u001b[0;34m=\u001b[0m \u001b[0mmodel\u001b[0m\u001b[0;34m(\u001b[0m\u001b[0;34m)\u001b[0m  \u001b[0;31m# calls forward()\u001b[0m\u001b[0;34m\u001b[0m\u001b[0;34m\u001b[0m\u001b[0m\n\u001b[0;32m----> 7\u001b[0;31m     \u001b[0menergy\u001b[0m\u001b[0;34m.\u001b[0m\u001b[0mbackward\u001b[0m\u001b[0;34m(\u001b[0m\u001b[0;34m)\u001b[0m\u001b[0;34m\u001b[0m\u001b[0;34m\u001b[0m\u001b[0m\n\u001b[0m\u001b[1;32m      8\u001b[0m     \u001b[0moptimizer\u001b[0m\u001b[0;34m.\u001b[0m\u001b[0mstep\u001b[0m\u001b[0;34m(\u001b[0m\u001b[0;34m)\u001b[0m\u001b[0;34m\u001b[0m\u001b[0;34m\u001b[0m\u001b[0m\n\u001b[1;32m      9\u001b[0m \u001b[0;34m\u001b[0m\u001b[0m\n",
      "\u001b[0;32m/opt/anaconda3/envs/dft_env/lib/python3.9/site-packages/torch/_tensor.py\u001b[0m in \u001b[0;36mbackward\u001b[0;34m(self, gradient, retain_graph, create_graph, inputs)\u001b[0m\n\u001b[1;32m    646\u001b[0m                 \u001b[0minputs\u001b[0m\u001b[0;34m=\u001b[0m\u001b[0minputs\u001b[0m\u001b[0;34m,\u001b[0m\u001b[0;34m\u001b[0m\u001b[0;34m\u001b[0m\u001b[0m\n\u001b[1;32m    647\u001b[0m             )\n\u001b[0;32m--> 648\u001b[0;31m         torch.autograd.backward(\n\u001b[0m\u001b[1;32m    649\u001b[0m             \u001b[0mself\u001b[0m\u001b[0;34m,\u001b[0m \u001b[0mgradient\u001b[0m\u001b[0;34m,\u001b[0m \u001b[0mretain_graph\u001b[0m\u001b[0;34m,\u001b[0m \u001b[0mcreate_graph\u001b[0m\u001b[0;34m,\u001b[0m \u001b[0minputs\u001b[0m\u001b[0;34m=\u001b[0m\u001b[0minputs\u001b[0m\u001b[0;34m\u001b[0m\u001b[0;34m\u001b[0m\u001b[0m\n\u001b[1;32m    650\u001b[0m         )\n",
      "\u001b[0;32m/opt/anaconda3/envs/dft_env/lib/python3.9/site-packages/torch/autograd/__init__.py\u001b[0m in \u001b[0;36mbackward\u001b[0;34m(tensors, grad_tensors, retain_graph, create_graph, grad_variables, inputs)\u001b[0m\n\u001b[1;32m    351\u001b[0m     \u001b[0;31m# some Python versions print out the first line of a multi-line function\u001b[0m\u001b[0;34m\u001b[0m\u001b[0;34m\u001b[0m\u001b[0m\n\u001b[1;32m    352\u001b[0m     \u001b[0;31m# calls in the traceback and some print out the last line\u001b[0m\u001b[0;34m\u001b[0m\u001b[0;34m\u001b[0m\u001b[0m\n\u001b[0;32m--> 353\u001b[0;31m     _engine_run_backward(\n\u001b[0m\u001b[1;32m    354\u001b[0m         \u001b[0mtensors\u001b[0m\u001b[0;34m,\u001b[0m\u001b[0;34m\u001b[0m\u001b[0;34m\u001b[0m\u001b[0m\n\u001b[1;32m    355\u001b[0m         \u001b[0mgrad_tensors_\u001b[0m\u001b[0;34m,\u001b[0m\u001b[0;34m\u001b[0m\u001b[0;34m\u001b[0m\u001b[0m\n",
      "\u001b[0;32m/opt/anaconda3/envs/dft_env/lib/python3.9/site-packages/torch/autograd/graph.py\u001b[0m in \u001b[0;36m_engine_run_backward\u001b[0;34m(t_outputs, *args, **kwargs)\u001b[0m\n\u001b[1;32m    822\u001b[0m         \u001b[0munregister_hooks\u001b[0m \u001b[0;34m=\u001b[0m \u001b[0m_register_logging_hooks_on_whole_graph\u001b[0m\u001b[0;34m(\u001b[0m\u001b[0mt_outputs\u001b[0m\u001b[0;34m)\u001b[0m\u001b[0;34m\u001b[0m\u001b[0;34m\u001b[0m\u001b[0m\n\u001b[1;32m    823\u001b[0m     \u001b[0;32mtry\u001b[0m\u001b[0;34m:\u001b[0m\u001b[0;34m\u001b[0m\u001b[0;34m\u001b[0m\u001b[0m\n\u001b[0;32m--> 824\u001b[0;31m         return Variable._execution_engine.run_backward(  # Calls into the C++ engine to run the backward pass\n\u001b[0m\u001b[1;32m    825\u001b[0m             \u001b[0mt_outputs\u001b[0m\u001b[0;34m,\u001b[0m \u001b[0;34m*\u001b[0m\u001b[0margs\u001b[0m\u001b[0;34m,\u001b[0m \u001b[0;34m**\u001b[0m\u001b[0mkwargs\u001b[0m\u001b[0;34m\u001b[0m\u001b[0;34m\u001b[0m\u001b[0m\n\u001b[1;32m    826\u001b[0m         )  # Calls into the C++ engine to run the backward pass\n",
      "\u001b[0;31mKeyboardInterrupt\u001b[0m: "
     ]
    }
   ],
   "source": [
    "\n",
    "optimizer = optim.Adam(model.parameters(), lr=0.1)\n",
    "\n",
    "num_steps = 500\n",
    "for step in range(num_steps):\n",
    "    optimizer.zero_grad()\n",
    "    energy = model()  # calls forward()\n",
    "    energy.backward()\n",
    "    optimizer.step()\n",
    "\n",
    "    if step % 50 == 0 or step == num_steps - 1:\n",
    "        print(f\"Step {step:4d} | Energy = {energy.item():.6f}\")"
   ]
  },
  {
   "cell_type": "code",
   "execution_count": 13,
   "id": "5c02fff8",
   "metadata": {},
   "outputs": [],
   "source": [
    "def slater_determinants(C, fock_basis):\n",
    "    # C: [M, N]\n",
    "    # fock_basis: [F, M]\n",
    "    F = fock_basis.shape[0]\n",
    "    N = C.shape[1]\n",
    "    psi = torch.zeros(F, dtype=C.dtype)\n",
    "\n",
    "    for i in range(F):\n",
    "        occ = fock_basis[i]   # [M] boolean\n",
    "        occ_indices = torch.nonzero(occ).squeeze()              # [N, N] rows of occupied orbitals\n",
    "        C_sub = C[occ_indices, :]            # [N, N]\n",
    "        psi[i] = torch.det(C_sub)     # compute Slater determinant amplitude\n",
    "\n",
    "    return psi  # [F] amplitudes over Fock basis\n",
    "\n",
    "\n"
   ]
  },
  {
   "cell_type": "code",
   "execution_count": 16,
   "id": "db567170",
   "metadata": {},
   "outputs": [
    {
     "name": "stdout",
     "output_type": "stream",
     "text": [
      "(51,)\n"
     ]
    }
   ],
   "source": [
    "psi_hf=slater_determinants(model.C,torch.tensor(NSMHamiltonian.basis))\n",
    "psi_hf=psi_hf.detach().numpy()\n",
    "print(psi_hf.shape)\n",
    "psi=psi_hf/np.linalg.norm(psi_hf)\n",
    "\n"
   ]
  },
  {
   "cell_type": "code",
   "execution_count": 21,
   "id": "a920535e",
   "metadata": {},
   "outputs": [
    {
     "data": {
      "image/png": "[encoded data removed]",
      "text/plain": [
       "<Figure size 432x288 with 1 Axes>"
      ]
     },
     "metadata": {
      "needs_background": "light"
     },
     "output_type": "display_data"
    },
    {
     "name": "stdout",
     "output_type": "stream",
     "text": [
      "-27.948658985407924\n"
     ]
    }
   ],
   "source": [
    "plt.bar(np.arange(psi.shape[0]),psi.conjugate()*psi)\n",
    "plt.bar(np.arange(psi.shape[0])+0.1,psi0[:,0].conjugate()*psi0[:,0])\n",
    "plt.show()\n",
    "\n",
    "print(psi.conjugate() @ NSMHamiltonian.hamiltonian @ psi)\n"
   ]
  }
 ],
 "metadata": {
  "kernelspec": {
   "display_name": "dft_env",
   "language": "python",
   "name": "python3"
  },
  "language_info": {
   "codemirror_mode": {
    "name": "ipython",
    "version": 3
   },
   "file_extension": ".py",
   "mimetype": "text/x-python",
   "name": "python",
   "nbconvert_exporter": "python",
   "pygments_lexer": "ipython3",
   "version": "3.9.7"
  }
 },
 "nbformat": 4,
 "nbformat_minor": 5
}
